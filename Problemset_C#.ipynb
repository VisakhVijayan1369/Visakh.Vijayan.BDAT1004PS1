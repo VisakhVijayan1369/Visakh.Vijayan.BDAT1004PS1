{
 "cells": [
  {
   "cell_type": "markdown",
   "id": "7f6462e0",
   "metadata": {},
   "source": [
    "<h1>Problem set 1</h1>"
   ]
  },
  {
   "cell_type": "markdown",
   "id": "916865b2",
   "metadata": {},
   "source": [
    "<h3>Question 1 C#</h3>\n",
    "<h6>What data type is each of the following?</h6><br>"
   ]
  },
  {
   "cell_type": "markdown",
   "id": "5eeed58d",
   "metadata": {},
   "source": [
    "|Data             | Data type                              |                \n",
    "| :---            |---------------:                        |          \n",
    "| 5               | int                                    | \n",
    "| 5.0             | Double                                 |  \n",
    "| 5 > 1           | bool                                   |\n",
    "| '5'             | char                                   |  \n",
    "| 5*2             | int                                    |  \n",
    "|'5'*2            | int                                    |   \n",
    "| '5'+'2'         | int                                    |  \n",
    "| 5 / 2           | int                                    |  \n",
    "| 5 % 2           | int                                    |\n",
    "| {5,2,1}         | List                                   |  \n",
    "| 5==3            | bool                                   |  \n",
    "| Pi (the number) | Double                                 |   \n",
    "\n",
    "#### Note: Please find the below code line for '5' * 2 and '5' +'2'"
   ]
  },
  {
   "cell_type": "code",
   "execution_count": 18,
   "id": "2c5f6e00",
   "metadata": {},
   "outputs": [
    {
     "name": "stdout",
     "output_type": "stream",
     "text": [
      "System.Int32\n",
      "System.Int32\n"
     ]
    }
   ],
   "source": [
    "Console.WriteLine(('5'+'2').GetType());\n",
    "Console.WriteLine(('5'*2).GetType());"
   ]
  },
  {
   "cell_type": "markdown",
   "id": "7892fb86",
   "metadata": {},
   "source": [
    "<h3>Question 2 C#</h3><br>\n",
    "<h4>Write (and evaluate) C# expressions that answer these questions:<h/4>"
   ]
  },
  {
   "cell_type": "markdown",
   "id": "4dc6b25e",
   "metadata": {},
   "source": [
    "<h6>a. How many letters are there in 'Supercalifragilisticexpialidocious'?</h6>"
   ]
  },
  {
   "cell_type": "code",
   "execution_count": 123,
   "id": "5d5d63b6",
   "metadata": {},
   "outputs": [
    {
     "name": "stdout",
     "output_type": "stream",
     "text": [
      "Number of letters in Supercalifragilisticexpialidocious is 34\r\n"
     ]
    }
   ],
   "source": [
    "//Assigning word to Word_1\n",
    "string Word_1=\"Supercalifragilisticexpialidocious\";\n",
    "//Finding Length of Word_1 and assigning to L\n",
    "int L=Word_1.Length;\n",
    "Console.WriteLine(\"Number of letters in Supercalifragilisticexpialidocious is {0}\",L);"
   ]
  },
  {
   "cell_type": "markdown",
   "id": "2ab7c6d1",
   "metadata": {},
   "source": [
    "<p></p>"
   ]
  },
  {
   "cell_type": "markdown",
   "id": "8d5f1f5a",
   "metadata": {},
   "source": [
    "<h6>b. Does 'Supercalifragilisticexpialidocious' contain 'ice' as a substring?<h6>"
   ]
  },
  {
   "cell_type": "code",
   "execution_count": 41,
   "id": "83a9710d",
   "metadata": {},
   "outputs": [
    {
     "name": "stdout",
     "output_type": "stream",
     "text": [
      "'Supercalifragilisticexpialidocious' contains 'ice' as substring\r\n"
     ]
    }
   ],
   "source": [
    "string Word_1=\"Supercalifragilisticexpialidocious\";\n",
    "string sub_string=\"ice\";\n",
    "// verifying substring: https://stackoverflow.com/questions/501026/how-to-determine-if-string-contains-specific-substring-within-the-first-x-charac/501042\n",
    "bool Result=Word_1.Contains(sub_string);\n",
    "if(Result==true)\n",
    "{\n",
    "Console.WriteLine(\"'Supercalifragilisticexpialidocious' contains 'ice' as substring\");\n",
    "}\n",
    "else\n",
    "{\n",
    "Console.WriteLine(\"'Supercalifragilisticexpialidocious' does not contain ice as substring\");\n",
    "}\n"
   ]
  },
  {
   "cell_type": "markdown",
   "id": "a8bd6e53",
   "metadata": {},
   "source": [
    " <br><h6>c. Which of the following words is the longest: <br><br>Supercalifragilisticexpialidocious, Honorificabilitudinitatibus, or\n",
    "Bababadalgharaghtakamminarronnkonn? </h6>"
   ]
  },
  {
   "cell_type": "code",
   "execution_count": 144,
   "id": "7a47b844",
   "metadata": {
    "scrolled": true
   },
   "outputs": [
    {
     "name": "stdout",
     "output_type": "stream",
     "text": [
      "Output: Longest word in the list is Supercalifragilisticexpialidocious\r\n"
     ]
    }
   ],
   "source": [
    "//Creating a list method 1 \n",
    "string[] Words={\"Supercalifragilisticexpialidocious\", \"Honorificabilitudinitatibus\", \"Bababadalgharaghtakamminarronnkonn\"};\n",
    "string longest=\"\";\n",
    "foreach(string word in Words)\n",
    "{\n",
    "    if (word.Length>longest.Length)\n",
    "    {\n",
    "    longest=word;\n",
    "    }\n",
    "}\n",
    "Console.WriteLine(\"Output: Longest word in the list is {0}\",longest);"
   ]
  },
  {
   "cell_type": "markdown",
   "id": "47129abd",
   "metadata": {},
   "source": [
    "<br><h6>d. Which composer comes first in the dictionary: 'Berlioz', 'Borodin', 'Brian',\n",
    "'Bartok', 'Bellini', 'Buxtehude', 'Bernstein'. Which one comes last?</h6>\n"
   ]
  },
  {
   "cell_type": "code",
   "execution_count": 147,
   "id": "90a28c8b",
   "metadata": {},
   "outputs": [
    {
     "name": "stdout",
     "output_type": "stream",
     "text": [
      "Output 1: First composer in dictionary is Bartok\n",
      "Output 2: Last composer in dictionary is Buxtehude\n"
     ]
    }
   ],
   "source": [
    "//Creating list method 2\n",
    "var Composers=new List<string> {\"Berlioz\", \"Borodin\", \"Brian\", \"Bartok\", \"Bellini\", \"Buxtehude\", \"Bernstein\"};\n",
    "Composers.Sort();// Sorting\n",
    "Console.WriteLine(\"Output 1: First composer in dictionary is {0}\",Composers.First());\n",
    "Console.WriteLine(\"Output 2: Last composer in dictionary is {0}\",Composers.Last());"
   ]
  },
  {
   "cell_type": "markdown",
   "id": "856b0f43",
   "metadata": {},
   "source": [
    "<br><h3>Question 3 C#</h3>\n",
    "<h6>Implement function triangleArea(a,b,c) that takes as input the lengths of the 3\n",
    "sides of a triangle and returns the area of the triangle. (Heron's formula)</h6>"
   ]
  },
  {
   "cell_type": "code",
   "execution_count": 8,
   "id": "222080de",
   "metadata": {},
   "outputs": [
    {
     "data": {
      "text/plain": [
       "1.7320508075688772"
      ]
     },
     "execution_count": 8,
     "metadata": {},
     "output_type": "execute_result"
    }
   ],
   "source": [
    "//https://stackoverflow.com/questions/10175357/c-sharp-creating-and-using-functions\n",
    "\n",
    "static double triangleArea(double a,double b,double c)\n",
    "{\n",
    "double s=(a+b+c)/2;\n",
    "double v=(s*(s-a)*(s-b)*(s-c));\n",
    "double Area=Math.Sqrt(v);\n",
    "return Area;\n",
    "}\n",
    "triangleArea(2,2,2)"
   ]
  },
  {
   "cell_type": "markdown",
   "id": "8eb49e74",
   "metadata": {},
   "source": [
    "<br><h3>Question 4 C#</h3>\n",
    "<h4>Write a program in C# Sharp to separate odd and even integers in separate arrays.</h4>\n",
    "Go to the editor<br>\n",
    "Test Data :<br>\n",
    "Input the number of elements to be stored in the array :5<br>\n",
    "Input 5 elements in the array :<br>\n",
    "element - 0 : 25<br>\n",
    "element - 1 : 47<br>\n",
    "element - 2 : 42<br>\n",
    "element - 3 : 56<br>\n",
    "element - 4 : 32\n",
    "</p>"
   ]
  },
  {
   "cell_type": "code",
   "execution_count": 2,
   "id": "50a327ec",
   "metadata": {},
   "outputs": [],
   "source": [
    "// https://stackoverflow.com/questions/49214/populating-a-list-of-integers-in-net\n",
    "// https://stackoverflow.com/questions/22845664/how-do-i-print-text-in-same-line/42524760\n",
    "using System;\n",
    "using System.Collections.Generic;\n",
    "\n",
    "namespace Question_4\n",
    "{\n",
    "    class Program\n",
    "    {\n",
    "        static void Main(string[] args)\n",
    "        {\n",
    "            Console.Write(\"Input the number of element : \");\n",
    "            int n = Convert.ToInt32(Console.ReadLine());\n",
    "            int[] Numbers = new int[n];//Creating an list\n",
    "            for (int i = 0; i < n; i++)\n",
    "            {\n",
    "                Console.Write(\"Element-{0}:\", i);//Appending elements in list \n",
    "                Numbers[i]= Convert.ToInt32(Console.ReadLine());\n",
    "            }\n",
    "            List<int> Odd = new List<int>();\n",
    "            List<int> Even = new List<int>();//Creating new list without length\n",
    "            foreach (var Number in Numbers)\n",
    "            {\n",
    "                int reminder = Number % 2; //Finding reminder and adding to seperate list\n",
    "                if (reminder==0)\n",
    "                {\n",
    "                    Even.Add(Number);\n",
    "                }\n",
    "                else\n",
    "                {\n",
    "                    Odd.Add(Number);\n",
    "                }\n",
    "            }\n",
    "            Console.WriteLine(\"The Even elements are:\");\n",
    "            foreach (var Num in Even)\n",
    "            {\n",
    "                Console.Write(\"{0}\\t\",Num);//Printing Even elements\n",
    "            }\n",
    "            Console.WriteLine(\"\\nThe Odd elements are:\");\n",
    "            foreach (var Num in Odd)\n",
    "            {\n",
    "                Console.Write(\"{0}\\t\", Num);//Printing Odd elements\n",
    "            }\n",
    "\n",
    "        }\n",
    "    }\n",
    "}"
   ]
  },
  {
   "cell_type": "markdown",
   "id": "27313e2f",
   "metadata": {},
   "source": [
    "<center><img title=\"a title\" alt=\"Alt text\" src=\"Q4.jpg\"></center>"
   ]
  },
  {
   "cell_type": "markdown",
   "id": "9a8ea91d",
   "metadata": {},
   "source": [
    "<h3>Question 5 C#</h3><br>\n",
    "<h6>a. Write a function inside(x,y,x1,y1,x2,y2) that returns True or False\n",
    "depending on whether the point (x,y) lies in the rectangle with lower left\n",
    "corner (x1,y1) and upper right corner (x2,y2).</h6>\n",
    "\n"
   ]
  },
  {
   "cell_type": "code",
   "execution_count": 12,
   "id": "2506def1",
   "metadata": {},
   "outputs": [
    {
     "data": {
      "text/plain": [
       "True"
      ]
     },
     "execution_count": 12,
     "metadata": {},
     "output_type": "execute_result"
    }
   ],
   "source": [
    "static bool inside(double x,double y,double x1,double y1, double x2,double y2)\n",
    "{\n",
    "if(((x>x1)&(y>y1))&((x<x2)&(y<y2)))\n",
    "{\n",
    "return true;\n",
    "}\n",
    "else\n",
    "{\n",
    "return false;\n",
    "}\n",
    "}"
   ]
  },
  {
   "cell_type": "code",
   "execution_count": 13,
   "id": "493b4a92",
   "metadata": {},
   "outputs": [
    {
     "data": {
      "text/plain": [
       "True"
      ]
     },
     "execution_count": 13,
     "metadata": {},
     "output_type": "execute_result"
    }
   ],
   "source": [
    "inside(1,1,0,0,2,3)"
   ]
  },
  {
   "cell_type": "code",
   "execution_count": 14,
   "id": "ba7aec6b",
   "metadata": {},
   "outputs": [
    {
     "data": {
      "text/plain": [
       "False"
      ]
     },
     "execution_count": 14,
     "metadata": {},
     "output_type": "execute_result"
    }
   ],
   "source": [
    "inside(-1,-1,0,0,2,3)"
   ]
  },
  {
   "cell_type": "markdown",
   "id": "7bc4962e",
   "metadata": {},
   "source": [
    "<br><h6> b. Use function inside() from part a. to write an expression that tests whether\n",
    "the point (1,1) lies in both of the following rectangles: <br><br>one with lower left\n",
    "corner (0.3, 0.5) and upper right corner (1.1, 0.7) and the other with lower\n",
    "left corner (0.5, 0.2) and upper right corner (1.1, 2). </h6>"
   ]
  },
  {
   "cell_type": "code",
   "execution_count": 40,
   "id": "9e8c04a5",
   "metadata": {},
   "outputs": [
    {
     "name": "stdout",
     "output_type": "stream",
     "text": [
      "Point(1,1) lies inside rectangle 2 but outside rectangle 1\r\n"
     ]
    }
   ],
   "source": [
    "bool Rec_1_test=inside(1,1,0.3,0.5,1.1,0.7);//Testing whether the point is inside rectangle 1\n",
    "\n",
    "bool Rec_2_test=inside(1,1,0.3,0.5,1.1,2);//Testing whether the point is inside rectangle 2\n",
    "\n",
    "if (Rec_1_test==true & Rec_2_test==true)//Condition statement for print if point is inside both rectangle\n",
    "{\n",
    "Console.WriteLine(\"Point(1,1) lies inside both rectangles\");\n",
    "}\n",
    "\n",
    "else if(Rec_1_test==true & Rec_2_test==false)\n",
    "{\n",
    "Console. WriteLine(\"Point(1,1) lies inside rectangle 1 but outside rectangle 2\");\n",
    "}\n",
    "\n",
    "else if(Rec_1_test==false & Rec_2_test==true)\n",
    "{\n",
    "Console. WriteLine(\"Point(1,1) lies inside rectangle 2 but outside rectangle 1\");\n",
    "}\n",
    "\n",
    "else //Condition statement for print if point is Outside both rectangle\n",
    "{\n",
    "Console.WriteLine(\"Point(1,1) lies outside both rectangles\");\n",
    "}"
   ]
  }
 ],
 "metadata": {
  "kernelspec": {
   "display_name": ".NET (C#)",
   "language": "C#",
   "name": ".net-csharp"
  },
  "language_info": {
   "file_extension": ".cs",
   "mimetype": "text/x-csharp",
   "name": "C#",
   "pygments_lexer": "csharp",
   "version": "8.0"
  }
 },
 "nbformat": 4,
 "nbformat_minor": 5
}
