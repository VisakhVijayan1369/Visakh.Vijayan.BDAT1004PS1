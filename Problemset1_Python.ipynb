{
 "cells": [
  {
   "cell_type": "markdown",
   "id": "820445ec",
   "metadata": {},
   "source": [
    "<h3>Question 6 Python</h3>\n",
    "<h6>You can turn a word into pig-Latin using the following two rules (simplified):</h6>\n",
    "<p>• If the word starts with a consonant, move that letter to the end and append\n",
    "'ay'. For example, 'happy' becomes 'appyhay' and 'pencil' becomes 'encilpay'.<br>\n",
    "• If the word starts with a vowel, simply append 'way' to the end of the word.<br>\n",
    "For example, 'enter' becomes 'enterway' and 'other' becomes 'otherway' . For\n",
    "our purposes, there are 5 vowels: a, e, i, o, u (so we count y as a consonant).\n",
    "Write a function pig() that takes a word (i.e., a string) as input and returns its pigLatin form. Your function should still work if the input word contains upper case\n",
    "characters. Your output should always be lower case however. </p><br>"
   ]
  },
  {
   "cell_type": "code",
   "execution_count": 132,
   "id": "a5c10506",
   "metadata": {},
   "outputs": [],
   "source": [
    "#Converting list of character into string-https://stackoverflow.com/questions/4481724/convert-a-list-of-characters-into-a-string\n",
    "def pig(word):\n",
    "    word_in=word.lower() #Converting word into lower case\n",
    "    char=[]\n",
    "    vowels=['a','e','i','o','u']\n",
    "    if word_in[0] in vowels:# If it starts with vowel adding 'way' at the end\n",
    "        print(word_in+'way')\n",
    "    else:\n",
    "        print(word_in[1:]+word_in[0]+'ay') # If it starts with consonent shift first letter to last and add 'ay' at the end\n"
   ]
  },
  {
   "cell_type": "markdown",
   "id": "45938064",
   "metadata": {},
   "source": [
    "<h4>Outputs</h4>"
   ]
  },
  {
   "cell_type": "code",
   "execution_count": 131,
   "id": "ae034d85",
   "metadata": {},
   "outputs": [
    {
     "name": "stdout",
     "output_type": "stream",
     "text": [
      "appyhay\n",
      "enterway\n"
     ]
    }
   ],
   "source": [
    "pig('Happy')\n",
    "pig('Enter')"
   ]
  },
  {
   "cell_type": "markdown",
   "id": "d83661aa",
   "metadata": {},
   "source": [
    "<h3>Question 7 Python</h3>\n",
    "<p>File bloodtype1.txt records blood-types of patients (A, B, AB, O or OO) at a clinic.\n",
    "Write a function bldcount() that reads the file with name name and reports (i.e.,\n",
    "prints) how many patients there are in each bloodtype.\n",
    " </p><br>"
   ]
  },
  {
   "cell_type": "code",
   "execution_count": 50,
   "id": "af826e28",
   "metadata": {},
   "outputs": [],
   "source": [
    "def bldcount(file_name):\n",
    "    content=open(file_name,'r')\n",
    "    blood_group=content.read()\n",
    "    content.close()\n",
    "    blood_group=blood_group.split()# Splitting the content into list\n",
    "    A=0\n",
    "    B=0\n",
    "    O=0\n",
    "    OO=0\n",
    "    AB=0\n",
    "    for group in blood_group: #Counting each blood group with condition statement\n",
    "        if group=='A':\n",
    "            A+=1\n",
    "        elif group=='B':\n",
    "            B+=1\n",
    "        elif group=='O':\n",
    "            O+=1\n",
    "        elif group=='OO':\n",
    "            OO+=1\n",
    "        else:\n",
    "            AB+=1\n",
    "    print(print_condition(A),'A')\n",
    "    print(print_condition(B),'B')\n",
    "    print(print_condition(AB),'AB')\n",
    "    print(print_condition(O),'O')\n",
    "    print(print_condition(OO),'OO')\n",
    "\n",
    "# Return statement: https://stackoverflow.com/questions/7129285/what-is-the-purpose-of-the-return-statement\n",
    "    \n",
    "def print_condition(X):# Creating condition statement for printing\n",
    "    if X==0:\n",
    "        string='There are no patients of blood type'\n",
    "    elif X==1:\n",
    "        string='There is one patient of blood type'\n",
    "    else:\n",
    "        string='There are '+str(X)+' patients of blood type'\n",
    "    return string\n",
    "    "
   ]
  },
  {
   "cell_type": "markdown",
   "id": "06fa26c6",
   "metadata": {},
   "source": [
    "<h4>Outputs</h4>"
   ]
  },
  {
   "cell_type": "code",
   "execution_count": 51,
   "id": "6a74ef36",
   "metadata": {},
   "outputs": [
    {
     "name": "stdout",
     "output_type": "stream",
     "text": [
      "There are 15 patients of blood type A\n",
      "There is one patient of blood type B\n",
      "There are 13 patients of blood type AB\n",
      "There are 15 patients of blood type O\n",
      "There are no patients of blood type OO\n"
     ]
    }
   ],
   "source": [
    "bldcount(\"bloodtype1.txt\")"
   ]
  },
  {
   "cell_type": "markdown",
   "id": "37a5e0c0",
   "metadata": {},
   "source": [
    "<h3>Question 8 Python</h3>\n",
    "<h6>Write a function curconv() that takes as input:</h6>\n",
    "<p>1. a currency represented using a string (e.g., 'JPY' for the Japanese Yen or\n",
    "'EUR' for the Euro)<br>\n",
    "2. an amount<br>\n",
    "and then converts and returns the amount in US dollars.</p><br>"
   ]
  },
  {
   "cell_type": "code",
   "execution_count": 78,
   "id": "67d24e45",
   "metadata": {},
   "outputs": [],
   "source": [
    "# Splitting string into list: https://stackoverflow.com/questions/9703512/python-split-string-into-multiple-string\n",
    "# Finding index: https://www.programiz.com/python-programming/methods/list/index\n",
    "def curconv(name,value):\n",
    "    content=open(\"currencies.txt\",'r')\n",
    "    currency_list=content.read()\n",
    "    content.close()\n",
    "    currency_list=currency_list.split('\\n')\n",
    "    Currency_name=[]\n",
    "    Currency_value=[]\n",
    "    for row in currency_list:\n",
    "        List_1=row.split()\n",
    "        Currency_name.append(List_1[0])\n",
    "        Currency_value.append(List_1[1])\n",
    "#Value=100\n",
    "#name='CNY'\n",
    "#index=Currency_name.index(name)- Finding the index of currency name\n",
    "#Currency_value[Currency_name.index(name)]- using the index to find value\n",
    "    Amount_in_USD=float(Currency_value[Currency_name.index(name)])*value #Mulyiplying value with conversion amount\n",
    "    print(Amount_in_USD)"
   ]
  },
  {
   "cell_type": "markdown",
   "id": "0691a018",
   "metadata": {},
   "source": [
    "<h4>Outputs</h4>"
   ]
  },
  {
   "cell_type": "code",
   "execution_count": 79,
   "id": "58ccf095",
   "metadata": {},
   "outputs": [
    {
     "name": "stdout",
     "output_type": "stream",
     "text": [
      "122.96544\n"
     ]
    }
   ],
   "source": [
    "curconv('EUR',100)"
   ]
  },
  {
   "cell_type": "code",
   "execution_count": 80,
   "id": "511271d0",
   "metadata": {},
   "outputs": [
    {
     "name": "stdout",
     "output_type": "stream",
     "text": [
      "1.241401\n"
     ]
    }
   ],
   "source": [
    "curconv('JPY',100)"
   ]
  },
  {
   "cell_type": "markdown",
   "id": "a480e7d8",
   "metadata": {},
   "source": [
    "<h3>Question 9 Python</h3>\n",
    "<h6>Each of the following will cause an exception (an error). Identify what type of\n",
    "exception each will cause.</h6><br>\n",
    "<h6>Trying to add incompatible variables, as in\n",
    "adding 6 + ‘a’\n",
    "</h6><br>"
   ]
  },
  {
   "cell_type": "code",
   "execution_count": 87,
   "id": "90c3c49b",
   "metadata": {},
   "outputs": [
    {
     "ename": "TypeError",
     "evalue": "unsupported operand type(s) for +: 'int' and 'str'",
     "output_type": "error",
     "traceback": [
      "\u001b[1;31m---------------------------------------------------------------------------\u001b[0m",
      "\u001b[1;31mTypeError\u001b[0m                                 Traceback (most recent call last)",
      "\u001b[1;32m<ipython-input-87-7815ec48973b>\u001b[0m in \u001b[0;36m<module>\u001b[1;34m\u001b[0m\n\u001b[1;32m----> 1\u001b[1;33m \u001b[1;36m6\u001b[0m\u001b[1;33m+\u001b[0m\u001b[1;34m'a'\u001b[0m\u001b[1;33m\u001b[0m\u001b[1;33m\u001b[0m\u001b[0m\n\u001b[0m",
      "\u001b[1;31mTypeError\u001b[0m: unsupported operand type(s) for +: 'int' and 'str'"
     ]
    }
   ],
   "source": [
    "6+'a'"
   ]
  },
  {
   "cell_type": "markdown",
   "id": "3c386705",
   "metadata": {},
   "source": [
    "<br><h6>Referring to the 12th item of a list that has only 10\n",
    "items\n",
    "</h6><br>"
   ]
  },
  {
   "cell_type": "code",
   "execution_count": 91,
   "id": "498b0886",
   "metadata": {},
   "outputs": [
    {
     "ename": "IndexError",
     "evalue": "list index out of range",
     "output_type": "error",
     "traceback": [
      "\u001b[1;31m---------------------------------------------------------------------------\u001b[0m",
      "\u001b[1;31mIndexError\u001b[0m                                Traceback (most recent call last)",
      "\u001b[1;32m<ipython-input-91-d412da58cdbc>\u001b[0m in \u001b[0;36m<module>\u001b[1;34m\u001b[0m\n\u001b[0;32m      1\u001b[0m \u001b[0mList\u001b[0m\u001b[1;33m=\u001b[0m\u001b[1;33m[\u001b[0m\u001b[1;34m'A'\u001b[0m\u001b[1;33m,\u001b[0m\u001b[1;34m'B'\u001b[0m\u001b[1;33m,\u001b[0m\u001b[1;34m'C'\u001b[0m\u001b[1;33m,\u001b[0m\u001b[1;34m'D'\u001b[0m\u001b[1;33m,\u001b[0m\u001b[1;36m1\u001b[0m\u001b[1;33m,\u001b[0m\u001b[1;36m2\u001b[0m\u001b[1;33m,\u001b[0m\u001b[1;36m3\u001b[0m\u001b[1;33m,\u001b[0m\u001b[1;36m4\u001b[0m\u001b[1;33m,\u001b[0m\u001b[1;36m5\u001b[0m\u001b[1;33m,\u001b[0m\u001b[1;36m6\u001b[0m\u001b[1;33m]\u001b[0m\u001b[1;33m\u001b[0m\u001b[1;33m\u001b[0m\u001b[0m\n\u001b[0;32m      2\u001b[0m \u001b[1;31m#len(List)\u001b[0m\u001b[1;33m\u001b[0m\u001b[1;33m\u001b[0m\u001b[1;33m\u001b[0m\u001b[0m\n\u001b[1;32m----> 3\u001b[1;33m \u001b[0mprint\u001b[0m\u001b[1;33m(\u001b[0m\u001b[0mList\u001b[0m\u001b[1;33m[\u001b[0m\u001b[1;36m11\u001b[0m\u001b[1;33m]\u001b[0m\u001b[1;33m)\u001b[0m\u001b[1;33m\u001b[0m\u001b[1;33m\u001b[0m\u001b[0m\n\u001b[0m",
      "\u001b[1;31mIndexError\u001b[0m: list index out of range"
     ]
    }
   ],
   "source": [
    "List=['A','B','C','D',1,2,3,4,5,6]\n",
    "#len(List)\n",
    "print(List[11])"
   ]
  },
  {
   "cell_type": "markdown",
   "id": "bca69e13",
   "metadata": {},
   "source": [
    "<br><h6>Using a value that is out of range for a function’s\n",
    "input, such as calling math.sqrt(-1.0)\n",
    "</h6><br>"
   ]
  },
  {
   "cell_type": "code",
   "execution_count": 92,
   "id": "fbd5c9b3",
   "metadata": {},
   "outputs": [
    {
     "ename": "ValueError",
     "evalue": "math domain error",
     "output_type": "error",
     "traceback": [
      "\u001b[1;31m---------------------------------------------------------------------------\u001b[0m",
      "\u001b[1;31mValueError\u001b[0m                                Traceback (most recent call last)",
      "\u001b[1;32m<ipython-input-92-d39e523296ce>\u001b[0m in \u001b[0;36m<module>\u001b[1;34m\u001b[0m\n\u001b[0;32m      1\u001b[0m \u001b[1;32mimport\u001b[0m \u001b[0mmath\u001b[0m\u001b[1;33m\u001b[0m\u001b[1;33m\u001b[0m\u001b[0m\n\u001b[1;32m----> 2\u001b[1;33m \u001b[0mmath\u001b[0m\u001b[1;33m.\u001b[0m\u001b[0msqrt\u001b[0m\u001b[1;33m(\u001b[0m\u001b[1;33m-\u001b[0m\u001b[1;36m1.0\u001b[0m\u001b[1;33m)\u001b[0m\u001b[1;33m\u001b[0m\u001b[1;33m\u001b[0m\u001b[0m\n\u001b[0m",
      "\u001b[1;31mValueError\u001b[0m: math domain error"
     ]
    }
   ],
   "source": [
    "import math\n",
    "math.sqrt(-1.0)"
   ]
  },
  {
   "cell_type": "markdown",
   "id": "9ffbf5eb",
   "metadata": {},
   "source": [
    "<br><h6>Using an undeclared variable, such as print(x)\n",
    "when x has not been defined \n",
    "</h6><br>\n"
   ]
  },
  {
   "cell_type": "code",
   "execution_count": 93,
   "id": "c7a62732",
   "metadata": {},
   "outputs": [
    {
     "ename": "NameError",
     "evalue": "name 'x' is not defined",
     "output_type": "error",
     "traceback": [
      "\u001b[1;31m---------------------------------------------------------------------------\u001b[0m",
      "\u001b[1;31mNameError\u001b[0m                                 Traceback (most recent call last)",
      "\u001b[1;32m<ipython-input-93-fc17d851ef81>\u001b[0m in \u001b[0;36m<module>\u001b[1;34m\u001b[0m\n\u001b[1;32m----> 1\u001b[1;33m \u001b[0mprint\u001b[0m\u001b[1;33m(\u001b[0m\u001b[0mx\u001b[0m\u001b[1;33m)\u001b[0m\u001b[1;33m\u001b[0m\u001b[1;33m\u001b[0m\u001b[0m\n\u001b[0m",
      "\u001b[1;31mNameError\u001b[0m: name 'x' is not defined"
     ]
    }
   ],
   "source": [
    "print(x)"
   ]
  },
  {
   "cell_type": "markdown",
   "id": "c01d7a64",
   "metadata": {},
   "source": [
    "<br><h6>Trying to open a file that does not exist, such as\n",
    "mistyping the file name or looking in the wrong\n",
    "directory.  \n",
    "</h6><br>"
   ]
  },
  {
   "cell_type": "code",
   "execution_count": 95,
   "id": "b3e5eea6",
   "metadata": {},
   "outputs": [
    {
     "ename": "FileNotFoundError",
     "evalue": "[Errno 2] No such file or directory: 'visakh.txt'",
     "output_type": "error",
     "traceback": [
      "\u001b[1;31m---------------------------------------------------------------------------\u001b[0m",
      "\u001b[1;31mFileNotFoundError\u001b[0m                         Traceback (most recent call last)",
      "\u001b[1;32m<ipython-input-95-9c7dcf4a3be4>\u001b[0m in \u001b[0;36m<module>\u001b[1;34m\u001b[0m\n\u001b[1;32m----> 1\u001b[1;33m \u001b[0mcontent\u001b[0m\u001b[1;33m=\u001b[0m\u001b[0mopen\u001b[0m\u001b[1;33m(\u001b[0m\u001b[1;34m'visakh.txt'\u001b[0m\u001b[1;33m,\u001b[0m\u001b[1;34m'r'\u001b[0m\u001b[1;33m)\u001b[0m\u001b[1;33m\u001b[0m\u001b[1;33m\u001b[0m\u001b[0m\n\u001b[0m",
      "\u001b[1;31mFileNotFoundError\u001b[0m: [Errno 2] No such file or directory: 'visakh.txt'"
     ]
    }
   ],
   "source": [
    "content=open('visakh.txt','r')"
   ]
  },
  {
   "cell_type": "markdown",
   "id": "fdaa7580",
   "metadata": {},
   "source": [
    "<h3>Question 10 Python</h3>\n",
    "<p>Encryption is the process of hiding the meaning of a text by substituting letters in the\n",
    "message with other letters, according to some system. If the process is successful, no\n",
    "one but the intended recipient can understand the encrypted message. Cryptanalysis\n",
    "refers to attempts to undo the encryption, even if some details of the encryption are\n",
    "unknown (for example, if an encrypted message has been intercepted). The first step\n",
    "of cryptanalysis is often to build up a table of letter frequencies in the encrypted text.\n",
    "Assume that the string letters is already defined as\n",
    "'abcdefghijklmnopqrstuvwxyz'. Write a function called frequencies()\n",
    "that takes a string as its only parameter, and returns a list of integers, showing the\n",
    "number of times each character appears in the text. Your function may ignore any\n",
    "characters that are not in letters.</p> "
   ]
  },
  {
   "cell_type": "code",
   "execution_count": 127,
   "id": "7c40f27f",
   "metadata": {},
   "outputs": [],
   "source": [
    "def frequencies(message):\n",
    "#Convert to lower case and remove space: https://www.geeksforgeeks.org/python-remove-spaces-from-a-string/\n",
    "    message=message.lower().replace(\" \",\"\")# \n",
    "#Creating list with 26 elements and all 0's : https://stackoverflow.com/questions/8528178/list-of-zeros-in-python\n",
    "    List=[0]*26 \n",
    "    letters='abcdefghijklmnopqrstuvwxyz'\n",
    "#letters='abcdefghijklmnopqrstuvwxyz'\n",
    "#char='c'\n",
    "# Finding position of charecter in string: https://stackoverflow.com/questions/2294493/how-to-get-the-position-of-a-character-in-python\n",
    "#Finding the same index of letter in List and taking count    \n",
    "    for char in message:\n",
    "        List[letters.find(char)]+=1\n",
    "    print(List)\n",
    "        "
   ]
  },
  {
   "cell_type": "markdown",
   "id": "35252a7b",
   "metadata": {},
   "source": [
    "<h4>Outputs</h4>"
   ]
  },
  {
   "cell_type": "code",
   "execution_count": 129,
   "id": "31f37533",
   "metadata": {},
   "outputs": [
    {
     "name": "stdout",
     "output_type": "stream",
     "text": [
      "[1, 1, 1, 3, 5, 1, 1, 2, 1, 0, 1, 0, 1, 2, 4, 0, 1, 2, 0, 3, 1, 0, 1, 1, 0, 0]\n"
     ]
    }
   ],
   "source": [
    "frequencies('The quick red fox got bored and went home')"
   ]
  },
  {
   "cell_type": "code",
   "execution_count": 130,
   "id": "373e6daf",
   "metadata": {},
   "outputs": [
    {
     "name": "stdout",
     "output_type": "stream",
     "text": [
      "[1, 0, 0, 0, 1, 0, 0, 0, 0, 0, 0, 1, 0, 0, 0, 2, 0, 0, 0, 0, 0, 0, 0, 0, 0, 0]\n"
     ]
    }
   ],
   "source": [
    "frequencies('apple')"
   ]
  }
 ],
 "metadata": {
  "kernelspec": {
   "display_name": "Python 3",
   "language": "python",
   "name": "python3"
  },
  "language_info": {
   "codemirror_mode": {
    "name": "ipython",
    "version": 3
   },
   "file_extension": ".py",
   "mimetype": "text/x-python",
   "name": "python",
   "nbconvert_exporter": "python",
   "pygments_lexer": "ipython3",
   "version": "3.8.8"
  }
 },
 "nbformat": 4,
 "nbformat_minor": 5
}
